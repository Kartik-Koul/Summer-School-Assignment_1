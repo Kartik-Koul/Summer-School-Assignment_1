{
  "nbformat": 4,
  "nbformat_minor": 0,
  "metadata": {
    "colab": {
      "provenance": [],
      "toc_visible": true,
      "authorship_tag": "ABX9TyPV70zih5sdMTRemEfIHdDj",
      "include_colab_link": true
    },
    "kernelspec": {
      "name": "python3",
      "display_name": "Python 3"
    },
    "language_info": {
      "name": "python"
    }
  },
  "cells": [
    {
      "cell_type": "markdown",
      "metadata": {
        "id": "view-in-github",
        "colab_type": "text"
      },
      "source": [
        "<a href=\"https://colab.research.google.com/github/Kartik-Koul/Summer-School-Assignment_1/blob/main/Solution_Code.ipynb\" target=\"_parent\"><img src=\"https://colab.research.google.com/assets/colab-badge.svg\" alt=\"Open In Colab\"/></a>"
      ]
    },
    {
      "cell_type": "markdown",
      "source": [
        "**Q1. L is a list defined as L= [11, 12, 13, 14].**\n",
        "\n"
      ],
      "metadata": {
        "id": "0N8lWZzhuQ8s"
      }
    },
    {
      "cell_type": "code",
      "execution_count": null,
      "metadata": {
        "id": "BmFIwYR_uLdQ"
      },
      "outputs": [],
      "source": [
        "L = [11, 12, 13, 14]"
      ]
    },
    {
      "cell_type": "markdown",
      "source": [
        "(i) WAP to add 50 and 60 to L."
      ],
      "metadata": {
        "id": "zqdhy1dMz63B"
      }
    },
    {
      "cell_type": "code",
      "source": [
        "L.append(50)\n",
        "L.append(60)\n",
        "print(L)"
      ],
      "metadata": {
        "id": "KYfR5Crez7gF"
      },
      "execution_count": null,
      "outputs": []
    },
    {
      "cell_type": "markdown",
      "source": [
        "(ii) WAP to remove 11 and 13 from L."
      ],
      "metadata": {
        "id": "50qErCY8z75y"
      }
    },
    {
      "cell_type": "code",
      "source": [
        "L.remove(11)\n",
        "L.remove(13)\n",
        "print(L)"
      ],
      "metadata": {
        "id": "NYyb4nhyz-4R"
      },
      "execution_count": null,
      "outputs": []
    },
    {
      "cell_type": "markdown",
      "source": [
        "(iii) WAP to sort L in ascending order."
      ],
      "metadata": {
        "id": "LAaGgA-Jz_Gz"
      }
    },
    {
      "cell_type": "code",
      "source": [
        "L.sort()\n",
        "print(L)"
      ],
      "metadata": {
        "id": "ZE3a0BmKz_WK"
      },
      "execution_count": null,
      "outputs": []
    },
    {
      "cell_type": "markdown",
      "source": [
        "(iv) WAP to sort L in descending order.\n"
      ],
      "metadata": {
        "id": "UQhvwTfb0AEh"
      }
    },
    {
      "cell_type": "code",
      "source": [
        "L.sort(reverse= True)\n",
        "print(L)"
      ],
      "metadata": {
        "id": "9YpLBOB-0ATq"
      },
      "execution_count": null,
      "outputs": []
    },
    {
      "cell_type": "markdown",
      "source": [
        "(v) WAP to search for 13 in L.\n"
      ],
      "metadata": {
        "id": "KkAAbrlD0AjC"
      }
    },
    {
      "cell_type": "code",
      "source": [
        "chk = 0\n",
        "for i in L:\n",
        "  if i == 13:\n",
        "    chk = 1\n",
        "\n",
        "if chk == 1:\n",
        "  print('13 present in list.')\n",
        "else:\n",
        "  print('13 not in list.')"
      ],
      "metadata": {
        "id": "_4Rk77uM0Axs"
      },
      "execution_count": null,
      "outputs": []
    },
    {
      "cell_type": "markdown",
      "source": [
        "(vi) WAP to count the number of elements present in L.\n"
      ],
      "metadata": {
        "id": "geceUInR0BBQ"
      }
    },
    {
      "cell_type": "code",
      "source": [
        "count = 0\n",
        "for i in L:\n",
        "  count = count + 1\n",
        "print('The number of elements in L is',count)"
      ],
      "metadata": {
        "id": "h40l4Hb70BQn"
      },
      "execution_count": null,
      "outputs": []
    },
    {
      "cell_type": "markdown",
      "source": [
        "(vii) WAP to sum all the elements in L.\n"
      ],
      "metadata": {
        "id": "y-3z7Ihk0BfJ"
      }
    },
    {
      "cell_type": "code",
      "source": [
        "s = 0\n",
        "for i in L:\n",
        "  s = s + i\n",
        "print('Sum of all elements in L is',s)"
      ],
      "metadata": {
        "id": "aZZwLrMl0BtO"
      },
      "execution_count": null,
      "outputs": []
    },
    {
      "cell_type": "markdown",
      "source": [
        "(viii) WAP to sum all ODD numbers in L.\n"
      ],
      "metadata": {
        "id": "juP9BdFb0B8B"
      }
    },
    {
      "cell_type": "code",
      "source": [
        "s = 0\n",
        "for i in L:\n",
        "  if i % 2 == 0:\n",
        "    continue\n",
        "  else:\n",
        "    s = s + i\n",
        "print('Sum of all odd elements in L is',s)"
      ],
      "metadata": {
        "id": "6_zDgGMC0CLz"
      },
      "execution_count": null,
      "outputs": []
    },
    {
      "cell_type": "markdown",
      "source": [
        "(ix) WAP to sum all EVEN numbers in L.\n"
      ],
      "metadata": {
        "id": "DzsQVRGB0Cbp"
      }
    },
    {
      "cell_type": "code",
      "source": [
        "s = 0\n",
        "for i in L:\n",
        "  if i % 2 == 0:\n",
        "    s = s + i\n",
        "  else:\n",
        "    continue\n",
        "print('Sum of all even elements in L is',s)"
      ],
      "metadata": {
        "id": "aVxqi9pl0CrL"
      },
      "execution_count": null,
      "outputs": []
    },
    {
      "cell_type": "markdown",
      "source": [
        "(x) WAP to sum all PRIME numbers in L.\n"
      ],
      "metadata": {
        "id": "t1rbxkNK0C79"
      }
    },
    {
      "cell_type": "code",
      "source": [
        "def IsPrime(n):\n",
        "  for i in range(2, n//2 + 1):\n",
        "    if n % i == 0:\n",
        "      return 0\n",
        "  return 1\n",
        "\n",
        "s = 0\n",
        "for i in L:\n",
        "  if IsPrime(i) == 1:\n",
        "    s = s + i\n",
        "print('Sum of all prime elements in L is',s)"
      ],
      "metadata": {
        "id": "_9KOxRYW0DLz"
      },
      "execution_count": null,
      "outputs": []
    },
    {
      "cell_type": "markdown",
      "source": [
        "(xi) WAP to clear all the elements in L.\n"
      ],
      "metadata": {
        "id": "HupWe4IT0DaJ"
      }
    },
    {
      "cell_type": "code",
      "source": [
        "L.clear()\n",
        "print(L)"
      ],
      "metadata": {
        "id": "iLQofe-D0Dp_"
      },
      "execution_count": null,
      "outputs": []
    },
    {
      "cell_type": "markdown",
      "source": [
        "(xii) WAP to delete L."
      ],
      "metadata": {
        "id": "DtI97hVI0iEZ"
      }
    },
    {
      "cell_type": "code",
      "source": [
        "del L"
      ],
      "metadata": {
        "id": "DeKowceY0ibw"
      },
      "execution_count": null,
      "outputs": []
    },
    {
      "cell_type": "markdown",
      "source": [
        "________________________________________________________________________________\n",
        "**Q2. D is a dictionary defined as D= {1:5.6, 2:7.8, 3:6.6, 4:8.7, 5:7.7}.**\n",
        "\n"
      ],
      "metadata": {
        "id": "6S7DHMBo1OZg"
      }
    },
    {
      "cell_type": "code",
      "source": [
        "D = {1:5.6, 2:7.8, 3:6.6, 4:8.7, 5:7.7}"
      ],
      "metadata": {
        "id": "YGdP1f0E1qmK"
      },
      "execution_count": null,
      "outputs": []
    },
    {
      "cell_type": "markdown",
      "source": [
        "(i) WAP to add new entry in D; key=8 and value is 8.8\n"
      ],
      "metadata": {
        "id": "ydB-FkoP1wRS"
      }
    },
    {
      "cell_type": "code",
      "source": [
        "D[8] = 8.8\n",
        "print(D)"
      ],
      "metadata": {
        "colab": {
          "base_uri": "https://localhost:8080/"
        },
        "id": "wJ4tGCTW1zd8",
        "outputId": "9c44ddf7-a45d-4c81-8f03-0024030242fb"
      },
      "execution_count": null,
      "outputs": [
        {
          "output_type": "stream",
          "name": "stdout",
          "text": [
            "{1: 5.6, 2: 7.8, 3: 6.6, 4: 8.7, 5: 7.7, 8: 8.8}\n"
          ]
        }
      ]
    },
    {
      "cell_type": "markdown",
      "source": [
        "(ii) WAP to remove key=2.\n"
      ],
      "metadata": {
        "id": "ZJwDcO3V1z9B"
      }
    },
    {
      "cell_type": "code",
      "source": [
        "del D[2]\n",
        "print(D)"
      ],
      "metadata": {
        "colab": {
          "base_uri": "https://localhost:8080/"
        },
        "id": "OSk41iC410Of",
        "outputId": "deca92e1-1d42-4a48-d608-deaa1077be77"
      },
      "execution_count": null,
      "outputs": [
        {
          "output_type": "stream",
          "name": "stdout",
          "text": [
            "{1: 5.6, 3: 6.6, 4: 8.7, 5: 7.7, 8: 8.8}\n"
          ]
        }
      ]
    },
    {
      "cell_type": "markdown",
      "source": [
        "(iii) WAP to check whether 6 key is present in D."
      ],
      "metadata": {
        "id": "PFQrDudG10jW"
      }
    },
    {
      "cell_type": "code",
      "source": [
        "chk = 0\n",
        "for k in D:\n",
        "  if k == 6:\n",
        "    print('The key 6 is present in the dictionary with value', D[k])\n",
        "    chk = 1\n",
        "if chk == 0:\n",
        "  print('The key 6 is not present in the dictionary.')"
      ],
      "metadata": {
        "colab": {
          "base_uri": "https://localhost:8080/"
        },
        "id": "Isud8_p21012",
        "outputId": "b1f2fff3-e3a5-4eb6-903b-06c46c4a8d01"
      },
      "execution_count": null,
      "outputs": [
        {
          "output_type": "stream",
          "name": "stdout",
          "text": [
            "The key 6 is not present in the dictionary.\n"
          ]
        }
      ]
    },
    {
      "cell_type": "markdown",
      "source": [
        "(iv) WAP to count the number of elements present in D.\n"
      ],
      "metadata": {
        "id": "tbS5mhIy11LN"
      }
    },
    {
      "cell_type": "code",
      "source": [
        "count = 0\n",
        "for k in D:\n",
        "  count = count + 1\n",
        "print(\"Number of elements present in the dictionary is\",count)"
      ],
      "metadata": {
        "colab": {
          "base_uri": "https://localhost:8080/"
        },
        "id": "DPB6N9SK11cA",
        "outputId": "8140169a-55a8-41f0-acc9-6c189a53708e"
      },
      "execution_count": null,
      "outputs": [
        {
          "output_type": "stream",
          "name": "stdout",
          "text": [
            "Number of elements present in the dictionary is 5\n"
          ]
        }
      ]
    },
    {
      "cell_type": "markdown",
      "source": [
        "(v) WAP to add all the values present D.\n"
      ],
      "metadata": {
        "id": "AoeDFW3011tv"
      }
    },
    {
      "cell_type": "code",
      "source": [
        "s = 0\n",
        "for k in D:\n",
        "  s = s + D[k]\n",
        "print(\"Sum of all values in D is\",s)"
      ],
      "metadata": {
        "colab": {
          "base_uri": "https://localhost:8080/"
        },
        "id": "snyzXP7I11-B",
        "outputId": "b677fbea-05f9-4735-c644-e1ae33ad81d0"
      },
      "execution_count": null,
      "outputs": [
        {
          "output_type": "stream",
          "name": "stdout",
          "text": [
            "Sum of all values in D is 37.4\n"
          ]
        }
      ]
    },
    {
      "cell_type": "markdown",
      "source": [
        "(vi) WAP to update the value of 3 to 7.1.\n"
      ],
      "metadata": {
        "id": "2gyxMcq-12OV"
      }
    },
    {
      "cell_type": "code",
      "source": [
        "D[3] = 7.1\n",
        "print(D)"
      ],
      "metadata": {
        "colab": {
          "base_uri": "https://localhost:8080/"
        },
        "id": "0IdnkuBb12gV",
        "outputId": "4d2bb882-ef2c-40a8-fb89-ec0a6ac5143b"
      },
      "execution_count": null,
      "outputs": [
        {
          "output_type": "stream",
          "name": "stdout",
          "text": [
            "{1: 5.6, 3: 7.1, 4: 8.7, 5: 7.7, 8: 8.8}\n"
          ]
        }
      ]
    },
    {
      "cell_type": "markdown",
      "source": [
        "(vii) WAP to clear the dictionary.\n"
      ],
      "metadata": {
        "id": "5-dto5jo2Opc"
      }
    },
    {
      "cell_type": "code",
      "source": [
        "D.clear()\n",
        "print(D)"
      ],
      "metadata": {
        "colab": {
          "base_uri": "https://localhost:8080/"
        },
        "id": "g26BnI7i13BC",
        "outputId": "0be2daf7-af22-4f34-e9cf-64af992fc38d"
      },
      "execution_count": null,
      "outputs": [
        {
          "output_type": "stream",
          "name": "stdout",
          "text": [
            "{}\n"
          ]
        }
      ]
    },
    {
      "cell_type": "markdown",
      "source": [
        "________________________________________________________________________________\n",
        "**Q3. S1 is a set defined as S1= [10, 20, 30, 40, 50, 60].**\n",
        "\n",
        "**S2 is a set defined as S2= [40, 50, 60, 70, 80, 90].**"
      ],
      "metadata": {
        "id": "_aJAvd_sCP7x"
      }
    },
    {
      "cell_type": "code",
      "source": [
        "S1 = set([10, 20, 30, 40, 50, 60])\n",
        "S2 = set([40, 50, 60, 70, 80, 90])"
      ],
      "metadata": {
        "id": "Ly-8iq0UCyYA"
      },
      "execution_count": null,
      "outputs": []
    },
    {
      "cell_type": "markdown",
      "source": [
        "(i) WAP to add 55 and 66 in Set S1.\n"
      ],
      "metadata": {
        "id": "AI_nNUq9ChUK"
      }
    },
    {
      "cell_type": "code",
      "source": [
        "S1.add(55)\n",
        "S1.add(66)\n",
        "print(S1)"
      ],
      "metadata": {
        "colab": {
          "base_uri": "https://localhost:8080/"
        },
        "id": "ZL2CCLzKChiB",
        "outputId": "c17910cf-7ef6-4672-ea37-d887329dd6ed"
      },
      "execution_count": null,
      "outputs": [
        {
          "output_type": "stream",
          "name": "stdout",
          "text": [
            "{66, 40, 10, 50, 20, 55, 60, 30}\n"
          ]
        }
      ]
    },
    {
      "cell_type": "markdown",
      "source": [
        "(ii) WAP to remove 10 and 30 from Set S1.\n"
      ],
      "metadata": {
        "id": "3PDWT8aQCht0"
      }
    },
    {
      "cell_type": "code",
      "source": [
        "S1.remove(10)\n",
        "S1.remove(30)\n",
        "print(S1)"
      ],
      "metadata": {
        "colab": {
          "base_uri": "https://localhost:8080/"
        },
        "id": "UDH-7BFOCh3Y",
        "outputId": "3621d5c9-db94-4bcf-bfb9-46633fd57d75"
      },
      "execution_count": null,
      "outputs": [
        {
          "output_type": "stream",
          "name": "stdout",
          "text": [
            "{66, 40, 50, 20, 55, 60}\n"
          ]
        }
      ]
    },
    {
      "cell_type": "markdown",
      "source": [
        "(iii) WAP to check whether 40 is present in S1.\n"
      ],
      "metadata": {
        "id": "bkvTfCNKCiAa"
      }
    },
    {
      "cell_type": "code",
      "source": [
        "chk = 0\n",
        "for i in S1:\n",
        "  if i == 40:\n",
        "    print(\"40 found in S1.\")\n",
        "    chk = 1\n",
        "if chk == 0:\n",
        "  print(\"40 not present in S1.\")"
      ],
      "metadata": {
        "colab": {
          "base_uri": "https://localhost:8080/"
        },
        "id": "ac6J2Mg5CiKK",
        "outputId": "6af1cdf9-05b7-4441-dc83-eb02fd954e86"
      },
      "execution_count": null,
      "outputs": [
        {
          "output_type": "stream",
          "name": "stdout",
          "text": [
            "40 found in S1.\n"
          ]
        }
      ]
    },
    {
      "cell_type": "markdown",
      "source": [
        "(iv) WAP to find the union between S1 and S2.\n"
      ],
      "metadata": {
        "id": "YvqkFeNFCiTZ"
      }
    },
    {
      "cell_type": "code",
      "source": [
        "print(S1.union(S2))"
      ],
      "metadata": {
        "colab": {
          "base_uri": "https://localhost:8080/"
        },
        "id": "ekWzEEX1Cib4",
        "outputId": "c0a9ca8c-9cfc-4a8d-bc69-bf015eaa6c3b"
      },
      "execution_count": null,
      "outputs": [
        {
          "output_type": "stream",
          "name": "stdout",
          "text": [
            "{66, 70, 40, 80, 50, 20, 55, 90, 60}\n"
          ]
        }
      ]
    },
    {
      "cell_type": "markdown",
      "source": [
        "(v) WAP to find the intersection between S1 and S2.\n"
      ],
      "metadata": {
        "id": "bDCLH-ZmCikk"
      }
    },
    {
      "cell_type": "code",
      "source": [
        "print(S1.intersection(S2))"
      ],
      "metadata": {
        "colab": {
          "base_uri": "https://localhost:8080/"
        },
        "id": "QS37NdmxCis9",
        "outputId": "474004fd-7f26-47e6-f43d-3ad0f51679e8"
      },
      "execution_count": null,
      "outputs": [
        {
          "output_type": "stream",
          "name": "stdout",
          "text": [
            "{40, 50, 60}\n"
          ]
        }
      ]
    },
    {
      "cell_type": "markdown",
      "source": [
        "(vi) WAP to find the S1 - S2.\n"
      ],
      "metadata": {
        "id": "wIEXNH6yCi1Q"
      }
    },
    {
      "cell_type": "code",
      "source": [
        "print(S1.difference(S2))"
      ],
      "metadata": {
        "colab": {
          "base_uri": "https://localhost:8080/"
        },
        "id": "u9XDTGJSCi8x",
        "outputId": "13b51245-5237-4c0e-d9d8-5a4a6ddcc15d"
      },
      "execution_count": null,
      "outputs": [
        {
          "output_type": "stream",
          "name": "stdout",
          "text": [
            "{66, 20, 55}\n"
          ]
        }
      ]
    },
    {
      "cell_type": "markdown",
      "source": [
        "________________________________________________________________________________\n",
        "**Q4. Write the following program.**"
      ],
      "metadata": {
        "id": "h3OMT_4hMKyh"
      }
    },
    {
      "cell_type": "markdown",
      "source": [
        "(i) WAP to print 100 random strings whose length between 6 and 8.\n"
      ],
      "metadata": {
        "id": "YAPbgm9CMTHr"
      }
    },
    {
      "cell_type": "code",
      "source": [
        "import string as s\n",
        "import random as r\n",
        "\n",
        "S = s.ascii_letters + s.digits\n",
        "for i in range (0,100):\n",
        "  size = r.randint(6,9)\n",
        "  str1 = r.sample(S, size)\n",
        "  print(\"\".join(str1))"
      ],
      "metadata": {
        "colab": {
          "base_uri": "https://localhost:8080/",
          "height": 53
        },
        "id": "JcW47t9mMYd2",
        "outputId": "f5f22a12-b7cd-456c-ec00-2302f30a0886"
      },
      "execution_count": null,
      "outputs": [
        {
          "output_type": "execute_result",
          "data": {
            "text/plain": [
              "'import string as s\\nimport random as r\\n\\nS = s.ascii_letters + s.digits\\nfor i in range (0,100):\\n  size = r.randint(6,9)\\n  str1 = r.sample(S, size)\\n  print(\"\".join(str1))'"
            ],
            "application/vnd.google.colaboratory.intrinsic+json": {
              "type": "string"
            }
          },
          "metadata": {},
          "execution_count": 5
        }
      ]
    },
    {
      "cell_type": "markdown",
      "source": [
        "(ii) WAP to print all prime numbers between 600 and 800.\n"
      ],
      "metadata": {
        "id": "Mqx9iKzQMYoG"
      }
    },
    {
      "cell_type": "code",
      "source": [
        "def IsPrime(n):\n",
        "  for i in range(2, n//2 + 1):\n",
        "    if n % i == 0:\n",
        "      return 0\n",
        "  return 1\n",
        "\n",
        "for i in range (600, 801):\n",
        "  if IsPrime(i) == 1:\n",
        "    print(i)"
      ],
      "metadata": {
        "colab": {
          "base_uri": "https://localhost:8080/"
        },
        "id": "r-gyMOPxMYx_",
        "outputId": "076b59d0-c903-4473-c55a-56e623b59d3c"
      },
      "execution_count": null,
      "outputs": [
        {
          "output_type": "stream",
          "name": "stdout",
          "text": [
            "601\n",
            "607\n",
            "613\n",
            "617\n",
            "619\n",
            "631\n",
            "641\n",
            "643\n",
            "647\n",
            "653\n",
            "659\n",
            "661\n",
            "673\n",
            "677\n",
            "683\n",
            "691\n",
            "701\n",
            "709\n",
            "719\n",
            "727\n",
            "733\n",
            "739\n",
            "743\n",
            "751\n",
            "757\n",
            "761\n",
            "769\n",
            "773\n",
            "787\n",
            "797\n"
          ]
        }
      ]
    },
    {
      "cell_type": "markdown",
      "source": [
        "(iii) WAP to print all numbers between 100 and 1000 that are divisible by 7 and 9.\n"
      ],
      "metadata": {
        "id": "f64fsiiRMY79"
      }
    },
    {
      "cell_type": "code",
      "source": [
        "for i in range(100,1001):\n",
        "  if i % 7 == 0 and i % 9 == 0:\n",
        "    print(i)"
      ],
      "metadata": {
        "colab": {
          "base_uri": "https://localhost:8080/"
        },
        "id": "4o3dlFDlMZET",
        "outputId": "c2d790d7-a984-4dae-e836-423a6aba450f"
      },
      "execution_count": null,
      "outputs": [
        {
          "output_type": "stream",
          "name": "stdout",
          "text": [
            "126\n",
            "189\n",
            "252\n",
            "315\n",
            "378\n",
            "441\n",
            "504\n",
            "567\n",
            "630\n",
            "693\n",
            "756\n",
            "819\n",
            "882\n",
            "945\n"
          ]
        }
      ]
    },
    {
      "cell_type": "markdown",
      "source": [
        "________________________________________________________________________________\n",
        "**Q5. WAP to create two lists of 10 random numbers between 10 and 30; Find** "
      ],
      "metadata": {
        "id": "hUGSQaY7WQVT"
      }
    },
    {
      "cell_type": "code",
      "source": [
        "import random as r\n",
        "\n",
        "L1 = r.sample(range(10,31),10)\n",
        "L2 = r.sample(range(10,31),10)\n",
        "print(L1)\n",
        "print(L2)"
      ],
      "metadata": {
        "colab": {
          "base_uri": "https://localhost:8080/"
        },
        "id": "yIl4TwK3WfpF",
        "outputId": "c818f744-6d26-4717-bfc9-8b4bd5558f59"
      },
      "execution_count": null,
      "outputs": [
        {
          "output_type": "stream",
          "name": "stdout",
          "text": [
            "[18, 13, 11, 30, 21, 27, 10, 24, 28, 26]\n",
            "[15, 30, 23, 14, 17, 19, 27, 16, 28, 18]\n"
          ]
        }
      ]
    },
    {
      "cell_type": "markdown",
      "source": [
        "(i) Common numbers in the two lists\n"
      ],
      "metadata": {
        "id": "OHyGVBd7Whov"
      }
    },
    {
      "cell_type": "code",
      "source": [
        "for i in L1:\n",
        "  if i in L2:\n",
        "    print(i)"
      ],
      "metadata": {
        "colab": {
          "base_uri": "https://localhost:8080/"
        },
        "id": "T9kU5F1vWh3T",
        "outputId": "7511b21a-8aa8-484d-f9fe-832e67996d8a"
      },
      "execution_count": null,
      "outputs": [
        {
          "output_type": "stream",
          "name": "stdout",
          "text": [
            "18\n",
            "30\n",
            "27\n",
            "28\n"
          ]
        }
      ]
    },
    {
      "cell_type": "markdown",
      "source": [
        "(ii) Unique numbers in both the list\n"
      ],
      "metadata": {
        "id": "faRj63fNWiTV"
      }
    },
    {
      "cell_type": "code",
      "source": [
        "for i in L1:\n",
        "  if i not in L2:\n",
        "    print(i)\n",
        "for i in L2:\n",
        "  if i not in L1:\n",
        "    print(i)"
      ],
      "metadata": {
        "colab": {
          "base_uri": "https://localhost:8080/"
        },
        "id": "BluhNiw8WibE",
        "outputId": "f8da2dfc-1410-41e5-855a-0cce83d4314d"
      },
      "execution_count": null,
      "outputs": [
        {
          "output_type": "stream",
          "name": "stdout",
          "text": [
            "13\n",
            "11\n",
            "21\n",
            "10\n",
            "24\n",
            "26\n",
            "15\n",
            "23\n",
            "14\n",
            "17\n",
            "19\n",
            "16\n"
          ]
        }
      ]
    },
    {
      "cell_type": "markdown",
      "source": [
        "(iii) Minimum in both the list\n"
      ],
      "metadata": {
        "id": "ZY_txQR3W0n1"
      }
    },
    {
      "cell_type": "code",
      "source": [
        "min1 = min(L1)\n",
        "min2 = min(L2)\n",
        "if min1 > min2:\n",
        "  print(min2)\n",
        "else:\n",
        "  print(min1)\n"
      ],
      "metadata": {
        "colab": {
          "base_uri": "https://localhost:8080/"
        },
        "id": "r3HB7JFpW0vy",
        "outputId": "f9e7549d-fad7-4551-80b2-08e4afaec2e7"
      },
      "execution_count": null,
      "outputs": [
        {
          "output_type": "stream",
          "name": "stdout",
          "text": [
            "10\n"
          ]
        }
      ]
    },
    {
      "cell_type": "markdown",
      "source": [
        "(iv) Maximum in both the list\n"
      ],
      "metadata": {
        "id": "f4mMFja1W1UF"
      }
    },
    {
      "cell_type": "code",
      "source": [
        "max1 = max(L1)\n",
        "max2 = max(L2)\n",
        "if max1 > max2:\n",
        "  print(max1)\n",
        "else:\n",
        "  print(max2)"
      ],
      "metadata": {
        "colab": {
          "base_uri": "https://localhost:8080/"
        },
        "id": "32d9ECY0W1a-",
        "outputId": "e12b6204-c15b-460c-d986-29b352a94b4b"
      },
      "execution_count": null,
      "outputs": [
        {
          "output_type": "stream",
          "name": "stdout",
          "text": [
            "30\n"
          ]
        }
      ]
    },
    {
      "cell_type": "markdown",
      "source": [
        "(v) Sum of both the lists"
      ],
      "metadata": {
        "id": "-vdwROZuW1hw"
      }
    },
    {
      "cell_type": "code",
      "source": [
        "print(\"Sum of list 1 =\", sum(L1))\n",
        "print(\"Sum of list 2 =\", sum(L2))"
      ],
      "metadata": {
        "colab": {
          "base_uri": "https://localhost:8080/"
        },
        "id": "OMNtHqhPW1oU",
        "outputId": "b3f6d063-94a1-4192-d1d5-f19d33983a44"
      },
      "execution_count": null,
      "outputs": [
        {
          "output_type": "stream",
          "name": "stdout",
          "text": [
            "Sum of list 1 = 208\n",
            "Sum of list 2 = 207\n"
          ]
        }
      ]
    },
    {
      "cell_type": "markdown",
      "source": [
        "________________________________________________________________________________\n",
        "**Q6. WAP to create a list of 100 random numbers between 100 and 900. Count and print the:**"
      ],
      "metadata": {
        "id": "QCAgRzyzY-rP"
      }
    },
    {
      "cell_type": "code",
      "source": [
        "import random as r\n",
        "L = r.sample(range(100,901),100)"
      ],
      "metadata": {
        "id": "51T8AfuFZHl7"
      },
      "execution_count": null,
      "outputs": []
    },
    {
      "cell_type": "markdown",
      "source": [
        "(i) All odd numbers"
      ],
      "metadata": {
        "id": "gYMNCnLFZb2T"
      }
    },
    {
      "cell_type": "code",
      "source": [
        "for i in L:\n",
        "  if i % 2 != 0:\n",
        "    print(i)"
      ],
      "metadata": {
        "id": "i7mmh2i1ZcBH"
      },
      "execution_count": null,
      "outputs": []
    },
    {
      "cell_type": "markdown",
      "source": [
        "(ii) All even numbers\n"
      ],
      "metadata": {
        "id": "tQl20AkuZcKQ"
      }
    },
    {
      "cell_type": "code",
      "source": [
        "for i in L:\n",
        "  if i % 2 == 0:\n",
        "    print(i)"
      ],
      "metadata": {
        "id": "TrGDcg5GZcS7"
      },
      "execution_count": null,
      "outputs": []
    },
    {
      "cell_type": "markdown",
      "source": [
        "(iii) All prime numbers\n"
      ],
      "metadata": {
        "id": "YLGRY02MZcbQ"
      }
    },
    {
      "cell_type": "code",
      "source": [
        "def IsPrime(n):\n",
        "  for i in range(2, n//2 + 1):\n",
        "    if n % i == 0:\n",
        "      return 0\n",
        "  return 1\n",
        "\n",
        "for i in L:\n",
        "  if IsPrime(i) == 1:\n",
        "    print(i)"
      ],
      "metadata": {
        "id": "ZIwlkPHhZcjx"
      },
      "execution_count": null,
      "outputs": []
    },
    {
      "cell_type": "markdown",
      "source": [
        "________________________________________________________________________________\n",
        "**Q7. D is a dictionary defined as D={1:\"One\",2:\"Two\",3:\"Three\",4:\"Four\", 5:\"Five\"}.**\n",
        "\n",
        "**WAP to read all the keys and values from dictionary and write to the file in the given below format.**\n",
        "\n",
        "**Key1, Value1**\n",
        "\n",
        "**Key2, Value2**\n",
        "\n",
        "**Key3, Value3**\n"
      ],
      "metadata": {
        "id": "rPUD_iJnZ_qW"
      }
    },
    {
      "cell_type": "code",
      "source": [
        "D={1:\"One\", 2:\"Two\", 3:\"Three\", 4:\"Four\", 5:\"Five\"}\n",
        "fp = open('MyFile', 'w')\n",
        "for i in D:\n",
        "  fp.write(f\"{i},{D[i]}\" + \"\\n\")\n"
      ],
      "metadata": {
        "id": "JYQk1vwPaVAB"
      },
      "execution_count": null,
      "outputs": []
    },
    {
      "cell_type": "markdown",
      "source": [
        "________________________________________________________________________________\n",
        "**Q8. L is a list defined as L={\"One\",\"Two\",\"Three\",\"Four\",\"Five\"}.\n",
        " WAP to count the length of reach element from a list and write to the file in the given below format:**\n",
        "\n",
        "**One, 3**\n",
        "\n",
        "**Two, 3**\n",
        "\n",
        "**Four, 4**\n"
      ],
      "metadata": {
        "id": "SXgHiEtUOpN5"
      }
    },
    {
      "cell_type": "code",
      "source": [
        "L = [\"One\", \"Two\", \"Three\", \"Four\", \"Five\"]\n",
        "\n",
        "fp = open('MyFile', 'w')\n",
        "for i in L:\n",
        "  count = 0\n",
        "  for j in i:\n",
        "    count = count + 1\n",
        "  fp.write(f\"{i},{count}\" + \"\\n\")"
      ],
      "metadata": {
        "id": "a8nbX2WvO02n"
      },
      "execution_count": 2,
      "outputs": []
    },
    {
      "cell_type": "markdown",
      "source": [
        "________________________________________________________________________________\n",
        "**Q9. Write to the file 100 random strings whose length between 10 and 15.**"
      ],
      "metadata": {
        "id": "nHsu1eZmZAcU"
      }
    },
    {
      "cell_type": "code",
      "source": [
        "import random as r\n",
        "import string as s\n",
        "fp = open('MyFile', 'w')\n",
        "for i in range (0,100):\n",
        "  fp.write(\"\".join(r.sample(s.ascii_letters, r.randint(10,16))) + \"\\n\")\n",
        "  "
      ],
      "metadata": {
        "id": "ITe-bFmYZXIY"
      },
      "execution_count": 6,
      "outputs": []
    },
    {
      "cell_type": "markdown",
      "source": [
        "________________________________________________________________________________\n",
        "**Q10. Write to the file all prime numbers between 600 and 800.**"
      ],
      "metadata": {
        "id": "Bb53rcJhaMKA"
      }
    },
    {
      "cell_type": "code",
      "source": [
        "def IsPrime(n):\n",
        "  for i in range(2, n//2 + 1):\n",
        "    if n % i == 0:\n",
        "      return 0\n",
        "  return 1\n",
        "\n",
        "fp = open('MyFile', 'w')\n",
        "for i in range(600,801):\n",
        "  if IsPrime(i) == 1:\n",
        "    fp.write(f\"{i}\" + \"\\n\")\n"
      ],
      "metadata": {
        "id": "wB0a3PyJaXXA"
      },
      "execution_count": 10,
      "outputs": []
    },
    {
      "cell_type": "markdown",
      "source": [
        "________________________________________________________________________________\n",
        "**Q11. WAP to calculate the time taken by a program.**"
      ],
      "metadata": {
        "id": "TCwZ9MVMa1M9"
      }
    },
    {
      "cell_type": "code",
      "source": [
        "from datetime import datetime\n",
        "  \n",
        "start_time = datetime.now()\n",
        "  \n",
        "for i in range(10000):\n",
        "    i**1000\n",
        "  \n",
        "end_time = datetime.now()\n",
        "  \n",
        "time_difference = (end_time - start_time).total_seconds() * 10**3\n",
        "print(\"Execution time of program is: \", time_difference, \"ms\")"
      ],
      "metadata": {
        "colab": {
          "base_uri": "https://localhost:8080/"
        },
        "id": "AyWnREW3a_BH",
        "outputId": "c65477f2-10bd-424b-bd45-464644408eb0"
      },
      "execution_count": 48,
      "outputs": [
        {
          "output_type": "stream",
          "name": "stdout",
          "text": [
            "Execution time of program is:  329.06600000000003 ms\n"
          ]
        }
      ]
    },
    {
      "cell_type": "markdown",
      "source": [
        "________________________________________________________________________________\n",
        "**Q12. WAP to sort following number of elements in a list, calculate time taken and plot the graph.**\n",
        "\n"
      ],
      "metadata": {
        "id": "uGNid04Ufz1x"
      }
    },
    {
      "cell_type": "code",
      "source": [
        "from datetime import datetime\n",
        "import seaborn as sns\n",
        "import random as r\n",
        "x = [\"5K\", \"10K\", \"15K\", \"20K\", \"25K\"]\n",
        "y = []\n",
        "count = 5000\n",
        "for i in x:\n",
        "  L = r.sample(range(count), count)\n",
        "\n",
        "  start_time = datetime.now()\n",
        "  L.sort()\n",
        "  end_time = datetime.now()\n",
        "  \n",
        "  time_difference = (end_time - start_time).total_seconds() * 10**3\n",
        "  y.append(time_difference)\n",
        "\n",
        "  count = count + 5000\n",
        "\n",
        "fig = sns.lineplot(x=x,y=y)\n",
        "fig.set_ylabel('Execution Time (in ms)')\n",
        "fig.set_xlabel('Element Size of List')\n",
        "\n",
        "\n"
      ],
      "metadata": {
        "colab": {
          "base_uri": "https://localhost:8080/",
          "height": 466
        },
        "id": "J7ouRUo_f8gR",
        "outputId": "8fa11328-0e52-4030-cd04-e5a1173a40d6"
      },
      "execution_count": 47,
      "outputs": [
        {
          "output_type": "execute_result",
          "data": {
            "text/plain": [
              "Text(0.5, 0, 'Element Size of List')"
            ]
          },
          "metadata": {},
          "execution_count": 47
        },
        {
          "output_type": "display_data",
          "data": {
            "text/plain": [
              "<Figure size 640x480 with 1 Axes>"
            ],
            "image/png": "[encoded data removed]"
          },
          "metadata": {}
        }
      ]
    },
    {
      "cell_type": "markdown",
      "source": [
        "________________________________________________________________________________\n",
        "**Q13. WAP to create a dictionary of student marks in five subjects and you have to find the student\n",
        "having maximum and minimum average marks.**"
      ],
      "metadata": {
        "id": "XxI4VlMPkED_"
      }
    },
    {
      "cell_type": "code",
      "source": [
        "S = [{\"Physics\":50, \"Chemistry\":50, \"Maths\":50, \"English\":50, \"Biology\":50}, \n",
        "     {\"Physics\":60, \"Chemistry\":60, \"Maths\":60, \"English\":60, \"Biology\":60},\n",
        "     {\"Physics\":70, \"Chemistry\":70, \"Maths\":70, \"English\":70, \"Biology\":70},\n",
        "     {\"Physics\":80, \"Chemistry\":80, \"Maths\":80, \"English\":80, \"Biology\":80},\n",
        "     {\"Physics\":90, \"Chemistry\":90, \"Maths\":90, \"English\":90, \"Biology\":90}]\n",
        "\n",
        "Marks = []\n",
        "\n",
        "for i in S:\n",
        "  s = 0\n",
        "  for k in i:\n",
        "    s = s + i[k]\n",
        "  Marks.append(s)\n",
        "\n",
        "max_marks = max(Marks)\n",
        "min_marks = min(Marks)\n",
        "\n",
        "for i in range(len(Marks)):\n",
        "  if max_marks == Marks[i]:\n",
        "    print(\"Maximum average marks secured by student\", i+1)\n",
        "  if min_marks == Marks[i]:\n",
        "    print(\"Minimum average marks secured by student\", i+1)"
      ],
      "metadata": {
        "colab": {
          "base_uri": "https://localhost:8080/"
        },
        "id": "gKQYg8eCkSxf",
        "outputId": "ce81e7c9-97a3-4e8b-92f4-a6a206d7fbdd"
      },
      "execution_count": 50,
      "outputs": [
        {
          "output_type": "stream",
          "name": "stdout",
          "text": [
            "Minimum average marks secured by student 1\n",
            "Maximum average marks secured by student 5\n"
          ]
        }
      ]
    }
  ]
}